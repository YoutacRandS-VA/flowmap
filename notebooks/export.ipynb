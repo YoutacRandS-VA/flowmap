{
 "cells": [
  {
   "cell_type": "code",
   "execution_count": 1,
   "metadata": {},
   "outputs": [],
   "source": [
    "import flowmap.formats.ugrid\n",
    "from tvtk.api import tvtk\n",
    "import geojson\n",
    "import matplotlib.pyplot as plt\n",
    "import numpy as np\n",
    "import shapely.geometry\n",
    "from tvtk.common import configure_input, configure_source_data\n",
    "import networkx\n",
    "import rasterio.mask\n",
    "import geojson\n",
    "import flowmap.subgrid\n",
    "import netCDF4\n",
    "import tqdm\n",
    "import pandas as pd\n",
    "import rasterio.features\n",
    "\n",
    "\n",
    "import vtk\n",
    "%matplotlib inline"
   ]
  },
  {
   "cell_type": "code",
   "execution_count": 2,
   "metadata": {},
   "outputs": [],
   "source": [
    "grid = flowmap.formats.ugrid.UGrid(path='/Users/baart_f/data/rijnland/vanGovert/Leerdam/leerdamwest_map.nc', src_epsg=28992)\n",
    "dem = flowmap.dem.read_dem('/Users/baart_f/data/rijnland/vanGovert/Leerdam/aw_refi_def_asc.tiff')\n",
    "crs = geojson.crs.Named(properties={\"name\": \"urn:ogc:def:crs:EPSG::{:d}\".format(grid.src_epsg)})"
   ]
  },
  {
   "cell_type": "code",
   "execution_count": 3,
   "metadata": {},
   "outputs": [
    {
     "name": "stderr",
     "output_type": "stream",
     "text": [
      "grid->features: 546506it [00:39, 13715.02it/s]\n"
     ]
    }
   ],
   "source": [
    "polys = grid.to_polys()"
   ]
  },
  {
   "cell_type": "code",
   "execution_count": 5,
   "metadata": {},
   "outputs": [],
   "source": [
    "src_epsg = 28992\n",
    "# convert hull to geojson\n",
    "crs = geojson.crs.Named(\n",
    "    properties={\n",
    "        \"name\": \"urn:ogc:def:crs:EPSG::{:d}\".format(src_epsg)\n",
    "    }\n",
    ")\n"
   ]
  },
  {
   "cell_type": "code",
   "execution_count": 87,
   "metadata": {},
   "outputs": [],
   "source": [
    "nodata = -999\n",
    "rasterized = rasterio.features.rasterize(\n",
    "    ((poly, i) for (i, poly) in enumerate(polys)),\n",
    "    out_shape=dem['band'].shape,\n",
    "    transform=dem['affine'],\n",
    "    fill=nodata\n",
    ")"
   ]
  },
  {
   "cell_type": "code",
   "execution_count": 97,
   "metadata": {},
   "outputs": [],
   "source": [
    "options = dict(\n",
    "    dtype=str(rasterized.dtype),\n",
    "    nodata=nodata,\n",
    "    count=1,\n",
    "    compress='lzw',\n",
    "    tiled=True,\n",
    "    blockxsize=256,\n",
    "    blockysize=256,\n",
    "    driver='GTiff',\n",
    "    affine=dem['affine'],\n",
    "    width=dem['width'],\n",
    "    height=dem['height'],\n",
    "    crs=rasterio.crs.CRS({'init': 'epsg:%d' % (src_epsg)})\n",
    "\n",
    ")\n",
    "with rasterio.open('test.tiff', 'w', **options) as out:\n",
    "    out.write(rasterized, indexes=1)"
   ]
  },
  {
   "cell_type": "code",
   "execution_count": null,
   "metadata": {},
   "outputs": [],
   "source": []
  }
 ],
 "metadata": {
  "kernelspec": {
   "display_name": "Python 3",
   "language": "python",
   "name": "python3"
  },
  "language_info": {
   "codemirror_mode": {
    "name": "ipython",
    "version": 3
   },
   "file_extension": ".py",
   "mimetype": "text/x-python",
   "name": "python",
   "nbconvert_exporter": "python",
   "pygments_lexer": "ipython3",
   "version": "3.6.4"
  }
 },
 "nbformat": 4,
 "nbformat_minor": 2
}
