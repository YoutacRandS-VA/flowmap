{
 "cells": [
  {
   "cell_type": "code",
   "execution_count": 4,
   "metadata": {
    "urth": {
     "dashboard": {
      "hidden": true,
      "layout": {}
     }
    }
   },
   "outputs": [],
   "source": [
    "# lookup index in sorted values\n",
    "import bisect\n",
    "import pathlib\n",
    "\n",
    "# io\n",
    "import netCDF4\n",
    "# siggyf/pyugrid#develop branch (waiting to be merged into pyugrid pr#144)\n",
    "import pyugrid\n",
    "import rasterio\n",
    "import rasterio.plot\n",
    "import rasterio.windows\n",
    "\n",
    "# computing\n",
    "import numpy as np\n",
    "import shapely.geometry\n",
    "import pandas\n",
    "\n",
    "# notebook extensions\n",
    "from ipywidgets import interact, interactive, fixed\n",
    "import tqdm\n",
    "\n",
    "# plotting\n",
    "import cmocean.cm\n",
    "import matplotlib\n",
    "import matplotlib.pyplot as plt\n",
    "import matplotlib.animation\n",
    "import matplotlib.style\n",
    "# matplotlib.style.use('ggplot')\n",
    "\n",
    "import flowmap.subgrid\n",
    "import flowmap.formats\n",
    "import flowmap.dem\n",
    "\n",
    "%matplotlib inline"
   ]
  },
  {
   "cell_type": "code",
   "execution_count": 5,
   "metadata": {
    "urth": {
     "dashboard": {
      "hidden": true,
      "layout": {}
     }
    }
   },
   "outputs": [],
   "source": [
    "# tiff file that has a correction for the 1d bathymetry (deburned channels) \n",
    "# original bathymetry with burned streams is named 'dem_3Di_2272015.tif'\n",
    "dem_filename = pathlib.Path('D:/vries_cy/Desktop/Groesbeek/aw_ahn_d_asc.tiff').expanduser()\n",
    "\n",
    "fm_filename = pathlib.Path('D:/vries_cy/Desktop/Groesbeek/groesbeek_map.nc').expanduser()\n",
    "# fm_filename = pathlib.Path('D:/vries_cy/Desktop/Groesbeek refined/groesbeek_map.nc').expanduser()\n",
    "\n",
    "t = -1"
   ]
  },
  {
   "cell_type": "markdown",
   "metadata": {
    "urth": {
     "dashboard": {
      "layout": {
       "col": 0,
       "height": 9,
       "row": 0,
       "width": 12
      }
     }
    }
   },
   "source": [
    "This notebook gives an example of how to apply a subgrid technique to an arbitrary numerical model result. \n",
    "A flow field is computed using a course schematization. In this example the coarse model computes on a 8m x 8m resolution. The dem is available at 0.5m resolution. So the question is, how do we take into account the high resolution dem after the model has already determined the volumes and fluxes in the coarse grid cells. \n",
    "\n",
    "We take the approach of redistrbuting the volumes by filling up the detailed bathymetry from the bottom.\n",
    "Other approaches are to fill the bathymetry using an interpolated function or from the cell edge with the largest volume difference. \n",
    "\n",
    "Advantages of this method over other methods:\n",
    "- Only computed for flooded areas\n",
    "- Can be applied a posteriori. No need to implement subgridding in the model.\n",
    "- Flexibility in detail (only compute on visualization)\n"
   ]
  },
  {
   "cell_type": "markdown",
   "metadata": {
    "urth": {
     "dashboard": {
      "layout": {
       "col": 0,
       "height": 4,
       "row": 9,
       "width": 4
      }
     }
    }
   },
   "source": [
    "Dem\n",
    "====\n",
    "Read the high detailed dem file"
   ]
  },
  {
   "cell_type": "code",
   "execution_count": 6,
   "metadata": {},
   "outputs": [],
   "source": [
    "\n",
    "dem = flowmap.dem.read_dem(dem_filename)\n"
   ]
  },
  {
   "cell_type": "markdown",
   "metadata": {
    "urth": {
     "dashboard": {
      "layout": {
       "col": 4,
       "height": 4,
       "row": 9,
       "width": 4
      }
     }
    }
   },
   "source": [
    "Model\n",
    "=====\n",
    "\n",
    "Read the model output"
   ]
  },
  {
   "cell_type": "code",
   "execution_count": 7,
   "metadata": {},
   "outputs": [],
   "source": [
    "ugrid = flowmap.formats.UGrid(fm_filename)"
   ]
  },
  {
   "cell_type": "markdown",
   "metadata": {
    "urth": {
     "dashboard": {
      "layout": {
       "col": 0,
       "height": 4,
       "row": 13,
       "width": 4
      }
     }
    }
   },
   "source": [
    "Example\n",
    "======"
   ]
  },
  {
   "cell_type": "code",
   "execution_count": 8,
   "metadata": {
    "urth": {
     "dashboard": {
      "layout": {
       "col": 4,
       "height": 10,
       "row": 13,
       "width": 4
      }
     }
    }
   },
   "outputs": [],
   "source": [
    "# read the dem\n",
    "\n",
    "data = ugrid.waterlevel(-1)"
   ]
  },
  {
   "cell_type": "code",
   "execution_count": 16,
   "metadata": {},
   "outputs": [],
   "source": [
    "x, y = 1000, 1000\n",
    "delta = 1000\n",
    "s = np.s_[(y-delta):(y+delta), (x-delta):(x+delta)]"
   ]
  },
  {
   "cell_type": "code",
   "execution_count": 22,
   "metadata": {},
   "outputs": [
    {
     "name": "stderr",
     "output_type": "stream",
     "text": [
      "100%|████████████████████████████████▉| 708746/708777 [12:57<00:00, 911.00it/s]"
     ]
    }
   ],
   "source": [
    " \n",
    "import pandas as pd\n",
    "def build_tables(grid, dem):\n",
    "    \"\"\"compute volume tables per cell\"\"\"\n",
    "\n",
    "    # compute cache of histograms per cell\n",
    "    idx = range(grid['face_coordinates'].shape[0])\n",
    "    faces = grid['face_coordinates'][idx]\n",
    "    tables = {}\n",
    "    for id_, face in zip(idx, tqdm.tqdm(faces)):\n",
    "        affine = dem['affine']\n",
    "        face_px = dem['world2px'](face)\n",
    "        face_px2slice = np.s_[\n",
    "            face_px[:, 1].min():face_px[:, 1].max(),\n",
    "            face_px[:, 0].min():face_px[:, 0].max()\n",
    "        ]\n",
    "        dem_i = dem['band'][face_px2slice]\n",
    "        if not dem_i.mask.all():\n",
    "            n, bins = np.histogram(dem_i.ravel(), bins=20)\n",
    "            n_cum = np.cumsum(n)\n",
    "            volume_table = np.abs(affine.a * affine.e) * n_cum * np.diff(bins)\n",
    "            cum_volume_table = np.cumsum(volume_table)\n",
    "        else:\n",
    "            n, bins = None, None\n",
    "            volume_table = None,\n",
    "            cum_volume_table = None\n",
    "        extent = [\n",
    "            face[:, 0].min(),\n",
    "            face[:, 0].max(),\n",
    "            face[:, 1].min(),\n",
    "            face[:, 1].max()\n",
    "        ]\n",
    "        record = dict(\n",
    "            id=id_,\n",
    "            slice=face_px2slice,\n",
    "            face=face,\n",
    "            dem=dem_i,\n",
    "            volume_table=volume_table,\n",
    "            cum_volume_table=cum_volume_table,\n",
    "            n=n,\n",
    "            extent=extent,\n",
    "            bins=bins\n",
    "        )\n",
    "        tables[id_] = record\n",
    "\n",
    "    tables = pd.DataFrame.from_records(list(tables.values())).set_index('id')\n",
    "    return tables\n",
    "tables = build_tables(ugrid.ugrid, dem)\n"
   ]
  },
  {
   "cell_type": "code",
   "execution_count": 70,
   "metadata": {},
   "outputs": [],
   "source": [
    "def compute_subgrid_waterdepth(grid, dem, tables, data, mode='mean'):\n",
    "    \"\"\"compute subgrid waterdepth band\"\"\"\n",
    "    excluded = []\n",
    "    faces = list(tables.index)\n",
    "    print(data['waterdepth'][0])\n",
    "    mean_waterdepth = np.zeros_like(data['waterdepth'])\n",
    "    median_waterdepth = np.zeros_like(data['waterdepth'])\n",
    "    low_waterdepth = np.zeros_like(data['waterdepth'])\n",
    "\n",
    "#     # create a masked array\n",
    "#     band = np.ma.masked_all_like(dem['band'])\n",
    "\n",
    "    # fill the in memory band\n",
    "    for i, face_idx in enumerate(tqdm.tqdm_notebook(faces)):\n",
    "        row = tables.loc[face_idx]\n",
    "        waterdepth_i = (flowmap.subgrid.subgrid_waterdepth(face_idx, \n",
    "                                                                 dem=dem, \n",
    "                                                                 grid=grid, \n",
    "                                                                 data=data, \n",
    "                                                                 tables=tables))\n",
    "        if waterdepth_i is None:\n",
    "            mean_waterdepth[i] =  None\n",
    "            median_waterdepth[i] = None\n",
    "            low_waterdepth[i] = None\n",
    "        else:\n",
    "            mean_waterdepth[i] = np.mean(waterdepth_i)\n",
    "            median_waterdepth[i] = np.median(waterdepth_i)\n",
    "            low_waterdepth[i] = waterdepth_i.min()\n",
    "#             if mode =='mean':\n",
    "#                 new_waterdepth[i] = np.mean(waterdepth_i)\n",
    "#             elif mode == 'median':\n",
    "#                 new_waterdepth[i] = np.median(waterdepth_i)\n",
    "#             elif mode == 'lowest':\n",
    "#                 new_waterdepth[i] = waterdepth_i.min()\n",
    "\n",
    "\n",
    "    return mean_waterdepth, median_watedepth, low_waterdepth\n",
    "mean_waterdepth, median_watedepth, low_waterdepth = compute_subgrid_waterdepth(grid, dem, tables, data, mode='mean')"
   ]
  },
  {
   "cell_type": "code",
   "execution_count": 47,
   "metadata": {},
   "outputs": [
    {
     "data": {
      "application/vnd.jupyter.widget-view+json": {
       "model_id": "ced636e3dfef402c83d58340ef5c9668",
       "version_major": 2,
       "version_minor": 0
      },
      "text/html": [
       "<p>Failed to display Jupyter Widget of type <code>HBox</code>.</p>\n",
       "<p>\n",
       "  If you're reading this message in the Jupyter Notebook or JupyterLab Notebook, it may mean\n",
       "  that the widgets JavaScript is still loading. If this message persists, it\n",
       "  likely means that the widgets JavaScript library is either not installed or\n",
       "  not enabled. See the <a href=\"https://ipywidgets.readthedocs.io/en/stable/user_install.html\">Jupyter\n",
       "  Widgets Documentation</a> for setup instructions.\n",
       "</p>\n",
       "<p>\n",
       "  If you're reading this message in another frontend (for example, a static\n",
       "  rendering on GitHub or <a href=\"https://nbviewer.jupyter.org/\">NBViewer</a>),\n",
       "  it may mean that your frontend doesn't currently support widgets.\n",
       "</p>\n"
      ],
      "text/plain": [
       "HBox(children=(IntProgress(value=0, max=708777), HTML(value='')))"
      ]
     },
     "metadata": {},
     "output_type": "display_data"
    },
    {
     "name": "stdout",
     "output_type": "stream",
     "text": [
      "\n"
     ]
    }
   ],
   "source": [
    "band = flowmap.subgrid.compute_band(ugrid.ugrid, dem, tables, data)"
   ]
  },
  {
   "cell_type": "markdown",
   "metadata": {
    "urth": {
     "dashboard": {
      "layout": {
       "col": 8,
       "height": 4,
       "row": 13,
       "width": 4
      }
     }
    }
   },
   "source": [
    "Compute volume interpolation\n"
   ]
  },
  {
   "cell_type": "code",
   "execution_count": 31,
   "metadata": {},
   "outputs": [
    {
     "name": "stdout",
     "output_type": "stream",
     "text": [
      "0.00974997878075\n",
      "0.00514985686657\n"
     ]
    },
    {
     "data": {
      "application/vnd.jupyter.widget-view+json": {
       "model_id": "b66668203d8b40bc820b1df5ec0ead19",
       "version_major": 2,
       "version_minor": 0
      },
      "text/html": [
       "<p>Failed to display Jupyter Widget of type <code>HBox</code>.</p>\n",
       "<p>\n",
       "  If you're reading this message in the Jupyter Notebook or JupyterLab Notebook, it may mean\n",
       "  that the widgets JavaScript is still loading. If this message persists, it\n",
       "  likely means that the widgets JavaScript library is either not installed or\n",
       "  not enabled. See the <a href=\"https://ipywidgets.readthedocs.io/en/stable/user_install.html\">Jupyter\n",
       "  Widgets Documentation</a> for setup instructions.\n",
       "</p>\n",
       "<p>\n",
       "  If you're reading this message in another frontend (for example, a static\n",
       "  rendering on GitHub or <a href=\"https://nbviewer.jupyter.org/\">NBViewer</a>),\n",
       "  it may mean that your frontend doesn't currently support widgets.\n",
       "</p>\n"
      ],
      "text/plain": [
       "HBox(children=(IntProgress(value=0, max=708777), HTML(value='')))"
      ]
     },
     "metadata": {},
     "output_type": "display_data"
    },
    {
     "name": "stdout",
     "output_type": "stream",
     "text": [
      "\n"
     ]
    }
   ],
   "source": [
    "# mean_waterdepth = compute_subgrid_waterdepth(ugrid.ugrid, dem, tables, data, mode='mean')"
   ]
  },
  {
   "cell_type": "code",
   "execution_count": 91,
   "metadata": {},
   "outputs": [],
   "source": [
    "# median_waterdepth = compute_subgrid_waterdepth(ugrid.ugrid, dem, tables, data, mode='median')"
   ]
  },
  {
   "cell_type": "code",
   "execution_count": 71,
   "metadata": {},
   "outputs": [
    {
     "name": "stdout",
     "output_type": "stream",
     "text": [
      "0.00514985686657\n"
     ]
    },
    {
     "data": {
      "application/vnd.jupyter.widget-view+json": {
       "model_id": "a3d1423b19d44a038bfcef131bc95fdb",
       "version_major": 2,
       "version_minor": 0
      },
      "text/html": [
       "<p>Failed to display Jupyter Widget of type <code>HBox</code>.</p>\n",
       "<p>\n",
       "  If you're reading this message in the Jupyter Notebook or JupyterLab Notebook, it may mean\n",
       "  that the widgets JavaScript is still loading. If this message persists, it\n",
       "  likely means that the widgets JavaScript library is either not installed or\n",
       "  not enabled. See the <a href=\"https://ipywidgets.readthedocs.io/en/stable/user_install.html\">Jupyter\n",
       "  Widgets Documentation</a> for setup instructions.\n",
       "</p>\n",
       "<p>\n",
       "  If you're reading this message in another frontend (for example, a static\n",
       "  rendering on GitHub or <a href=\"https://nbviewer.jupyter.org/\">NBViewer</a>),\n",
       "  it may mean that your frontend doesn't currently support widgets.\n",
       "</p>\n"
      ],
      "text/plain": [
       "HBox(children=(IntProgress(value=0, max=708777), HTML(value='')))"
      ]
     },
     "metadata": {},
     "output_type": "display_data"
    },
    {
     "name": "stdout",
     "output_type": "stream",
     "text": [
      "\n"
     ]
    },
    {
     "name": "stderr",
     "output_type": "stream",
     "text": [
      "Exception in thread Thread-23:\n",
      "Traceback (most recent call last):\n",
      "  File \"C:\\Anaconda\\envs\\py36\\lib\\threading.py\", line 916, in _bootstrap_inner\n",
      "    self.run()\n",
      "  File \"C:\\Anaconda\\envs\\py36\\lib\\site-packages\\tqdm\\_tqdm.py\", line 144, in run\n",
      "    for instance in self.tqdm_cls._instances:\n",
      "  File \"C:\\Anaconda\\envs\\py36\\lib\\_weakrefset.py\", line 60, in __iter__\n",
      "    for itemref in self.data:\n",
      "RuntimeError: Set changed size during iteration\n",
      "\n"
     ]
    },
    {
     "name": "stdout",
     "output_type": "stream",
     "text": [
      "\n"
     ]
    }
   ],
   "source": [
    "# low_waterdepth = compute_subgrid_waterdepth(ugrid.ugrid, dem, tables, data, mode='lowest')"
   ]
  },
  {
   "cell_type": "code",
   "execution_count": 32,
   "metadata": {},
   "outputs": [
    {
     "name": "stderr",
     "output_type": "stream",
     "text": [
      "\n",
      "0it [00:00, ?it/s]\n",
      "1it [00:00,  6.47it/s]\n",
      "644it [00:00, 2540.44it/s]\n",
      "1284it [00:00, 3622.00it/s]\n",
      "1928it [00:00, 4232.71it/s]\n",
      "2441it [00:00, 4398.20it/s]\n",
      "3062it [00:00, 4674.81it/s]\n",
      "3731it [00:00, 4938.45it/s]\n",
      "4364it [00:00, 5101.11it/s]\n",
      "4939it [00:00, 5158.23it/s]\n",
      "5578it [00:01, 5274.71it/s]\n",
      "6170it [00:01, 5312.10it/s]\n",
      "6817it [00:01, 5406.03it/s]\n",
      "7422it [00:01, 5445.34it/s]\n",
      "Exception in thread Thread-15:\n",
      "Traceback (most recent call last):\n",
      "  File \"C:\\Anaconda\\envs\\py36\\lib\\threading.py\", line 916, in _bootstrap_inner\n",
      "    self.run()\n",
      "  File \"C:\\Anaconda\\envs\\py36\\lib\\site-packages\\tqdm\\_tqdm.py\", line 144, in run\n",
      "    for instance in self.tqdm_cls._instances:\n",
      "  File \"C:\\Anaconda\\envs\\py36\\lib\\_weakrefset.py\", line 60, in __iter__\n",
      "    for itemref in self.data:\n",
      "RuntimeError: Set changed size during iteration\n",
      "\n",
      "708777it [01:44, 6753.79it/s]\n"
     ]
    }
   ],
   "source": [
    "is_grid_full = ugrid.build_is_grid(raster=dem)"
   ]
  },
  {
   "cell_type": "code",
   "execution_count": 39,
   "metadata": {},
   "outputs": [],
   "source": [
    "values = np.c_[data['s1'], data['vol1'], data['waterdepth']]\n",
    "L = flowmap.subgrid.build_interpolate(ugrid.ugrid, values)"
   ]
  },
  {
   "cell_type": "code",
   "execution_count": 40,
   "metadata": {},
   "outputs": [],
   "source": [
    "values = np.c_[data['s1'], data['vol1'], mean_waterdepth]\n",
    "L_SI = flowmap.subgrid.build_interpolate(ugrid.ugrid, values)"
   ]
  },
  {
   "cell_type": "code",
   "execution_count": 59,
   "metadata": {},
   "outputs": [],
   "source": [
    "values = np.c_[data['s1'], data['vol1'], median_waterdepth]\n",
    "L_SI_median = flowmap.subgrid.build_interpolate(ugrid.ugrid, values)"
   ]
  },
  {
   "cell_type": "code",
   "execution_count": 73,
   "metadata": {},
   "outputs": [],
   "source": [
    "values = np.c_[data['s1'], data['vol1'], low_waterdepth]\n",
    "L_SI_low = flowmap.subgrid.build_interpolate(ugrid.ugrid, values)"
   ]
  },
  {
   "cell_type": "code",
   "execution_count": 85,
   "metadata": {},
   "outputs": [],
   "source": [
    "def compute_interpolated(L, dem, data, wdepth, s=None):\n",
    "    \"\"\"compute a map of interpolated waterdepth, masked where detailed topography >= interpolated waterlevel, optionally sliced by a tuple (s) of row, column slices\"\"\"\n",
    "    if s is None:\n",
    "        s = np.s_[:, :]\n",
    "\n",
    "    # create the pixel grid (assuming no rotation)\n",
    "    affine = dem['affine']\n",
    "    assert affine.b == 0 and affine.d == 0, 'rotated dems not implemented'\n",
    "    y = np.arange(affine.f, affine.f + affine.e * dem['height'], affine.e)\n",
    "    x = np.arange(affine.c, affine.c + affine.a * dem['width'], affine.a)\n",
    "    # we need the full grid to get the interpolated values\n",
    "    X, Y = np.meshgrid(x[s[1]], y[s[0]])\n",
    "    # fill the interpolation function\n",
    "    msg = 'Interpolation function should be filled with s1, vol1, and waterdepth'\n",
    "    assert L.values.shape[1] == 3, msg\n",
    "    # fill in new values\n",
    "    L.values = np.c_[data['s1'], data['vol1'], wdepth]\n",
    "    # compute interplation\n",
    "    interpolated = L(X, Y)\n",
    "    # get the variables\n",
    "    s1 = interpolated[..., 0]\n",
    "    waterdepth = interpolated[..., 2]\n",
    "    vol1 = interpolated[..., 1]\n",
    "#     new_waterdepth = interpolated[..., 3]\n",
    "    # lookup band\n",
    "    dem_band = dem['band'][s]\n",
    "    # mask interpolated values using dem\n",
    "    masked_waterdepth = np.ma.masked_array(waterdepth, mask=dem_band >= s1)\n",
    "    return {\n",
    "        \"masked_waterdepth\": masked_waterdepth,\n",
    "        \"s1\": s1,\n",
    "        \"vol1\": vol1,\n",
    "        \"dem\": dem_band, \n",
    "    }\n"
   ]
  },
  {
   "cell_type": "code",
   "execution_count": 90,
   "metadata": {},
   "outputs": [
    {
     "data": {
      "application/vnd.jupyter.widget-view+json": {
       "model_id": "6d5cdb8e266b474c9c6d86caf22768bf",
       "version_major": 2,
       "version_minor": 0
      },
      "text/html": [
       "<p>Failed to display Jupyter Widget of type <code>interactive</code>.</p>\n",
       "<p>\n",
       "  If you're reading this message in the Jupyter Notebook or JupyterLab Notebook, it may mean\n",
       "  that the widgets JavaScript is still loading. If this message persists, it\n",
       "  likely means that the widgets JavaScript library is either not installed or\n",
       "  not enabled. See the <a href=\"https://ipywidgets.readthedocs.io/en/stable/user_install.html\">Jupyter\n",
       "  Widgets Documentation</a> for setup instructions.\n",
       "</p>\n",
       "<p>\n",
       "  If you're reading this message in another frontend (for example, a static\n",
       "  rendering on GitHub or <a href=\"https://nbviewer.jupyter.org/\">NBViewer</a>),\n",
       "  it may mean that your frontend doesn't currently support widgets.\n",
       "</p>\n"
      ],
      "text/plain": [
       "interactive(children=(IntSlider(value=8000, description='x', max=16096, min=200, step=200), IntSlider(value=8000, description='y', max=16096, min=200, step=200), Output()), _dom_classes=('widget-interact',))"
      ]
     },
     "metadata": {},
     "output_type": "display_data"
    }
   ],
   "source": [
    "delta = 100\n",
    "\n",
    "@interactive \n",
    "def plot(x=(2*delta,dem['width'], 2*delta), y=(2*delta, dem['width'], 2*delta)):\n",
    "    # row columns\n",
    "    s = np.s_[(y-delta):(y+delta), (x-delta):(x+delta)]\n",
    "    \n",
    "    interpolated = compute_interpolated(L, dem, data, data['waterdepth'], s=s)\n",
    "    masked_waterdepth = interpolated['masked_waterdepth']\n",
    "    interpolated_SI = compute_interpolated(L_SI, dem, data, mean_waterdepth, s=s)\n",
    "    masked_waterdepth_SI = interpolated['masked_waterdepth']\n",
    "    interpolated_SI_median = compute_interpolated(L_SI_median, dem, data, median_waterdepth, s=s)\n",
    "    masked_waterdepth_SI_median = interpolated['masked_waterdepth']   \n",
    "    interpolated_SI_low = compute_interpolated(L_SI_low, dem, data, low_waterdepth, s=s)\n",
    "    masked_waterdepth_SI_low = interpolated['masked_waterdepth']\n",
    "#     is_grid = is_grid_full[s]\n",
    "    s1 = interpolated['s1']    \n",
    "    vol1 = interpolated['vol1']\n",
    "    dem_band = interpolated['dem']\n",
    "    \n",
    "    \n",
    "    fig, axes = plt.subplots(2, 3, figsize=(20, 10))\n",
    "    im = axes[0, 0].imshow(s1 - dem_band, cmap='Blues')\n",
    "    plt.colorbar(im, ax=axes[0, 0])\n",
    "#     axes[0, 0].set_title('s1 - dem')\n",
    "#     im = axes[0, 1].imshow(s1, cmap='viridis')\n",
    "#     plt.colorbar(im, ax=axes[0, 1])\n",
    "#     axes[0, 1].set_title('s1')\n",
    "#     im = axes[0, 2].imshow(dem_band, cmap='viridis')\n",
    "#     plt.colorbar(im, ax=axes[0, 2])\n",
    "#     axes[0, 2].set_title('dem')\n",
    "#     im = axes[1, 0].imshow(vol1, cmap='viridis', vmax=20)\n",
    "#     plt.colorbar(im, ax=axes[1, 0])\n",
    "#     axes[1, 0].set_title('vol1')\n",
    "    vmax = 0.05\n",
    "\n",
    "    im = axes[0, 1].imshow(masked_waterdepth_SI, cmap='Blues', vmax=vmax)\n",
    "    plt.colorbar(im, ax=axes[0, 1])\n",
    "    axes[0, 1].set_title('mean waterdepth subgrid interpolated')\n",
    "    \n",
    "    im = axes[1, 1].imshow(masked_waterdepth, cmap='Blues', vmax=vmax)\n",
    "    plt.colorbar(im, ax=axes[1, 1])\n",
    "    axes[1, 1].set_title('waterdepth (interpolated and masked)')\n",
    "\n",
    "    im = axes[1, 0].imshow(band[s], cmap='Blues', vmax=vmax)\n",
    "    plt.colorbar(im, ax=axes[1, 0])\n",
    "    axes[1, 0].set_title('waterdepth subgrid')\n",
    "    \n",
    "    im = axes[0, 2].imshow(masked_waterdepth_SI_median, cmap='Blues', vmax=vmax)\n",
    "    plt.colorbar(im, ax=axes[0, 2])\n",
    "    axes[0, 2].set_title('median waterdepth subgrid interpolated')\n",
    "\n",
    "    im = axes[1, 2].imshow(masked_waterdepth_SI_low, cmap='Blues', vmax=vmax)\n",
    "    plt.colorbar(im, ax=axes[1, 2])\n",
    "    axes[1, 2].set_title('low waterdepth subgrid interpolated')\n",
    "plot"
   ]
  },
  {
   "cell_type": "code",
   "execution_count": null,
   "metadata": {},
   "outputs": [],
   "source": []
  }
 ],
 "metadata": {
  "kernelspec": {
   "display_name": "Python 3",
   "language": "python",
   "name": "python3"
  },
  "urth": {
   "dashboard": {
    "cellMargin": 10,
    "defaultCellHeight": 20,
    "layout": "grid",
    "maxColumns": 12
   }
  },
  "widgets": {
   "state": {
    "04100f73a6d64257bb4cd0076f025071": {
     "views": [
      {
       "cell_index": 12
      }
     ]
    },
    "6fcc0d5fa8d14e82be0bfef3d9304511": {
     "views": [
      {
       "cell_index": 22
      }
     ]
    },
    "70b917705c2b4629ab619b1dbd23c208": {
     "views": [
      {
       "cell_index": 15
      }
     ]
    }
   },
   "version": "1.2.0"
  }
 },
 "nbformat": 4,
 "nbformat_minor": 1
}
